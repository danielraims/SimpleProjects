{
 "cells": [
  {
   "cell_type": "markdown",
   "metadata": {
    "id": "6APml7pjpuym"
   },
   "source": [
    "# Closed Domain Chatbot with **words vectors**"
   ]
  },
  {
   "cell_type": "markdown",
   "metadata": {
    "id": "cOc1WfzHpuzI"
   },
   "source": [
    "There is several way to create a chatbot, in this section I will use sentence similarity to create one, I will create the words embeddings\n",
    "of the questions and answers data(here I will use covid19-related-faqs from Kaggle). Then, this words embeddings is used to calculate the\n",
    "similarity between two sentences(the user request and a question in the dataset). We will take the most similar questions to the user request and\n",
    "return the corresponding responses."
   ]
  },
  {
   "cell_type": "code",
   "execution_count": null,
   "metadata": {
    "id": "EBC3M3EzpuzO"
   },
   "outputs": [],
   "source": [
    "!pip install gensim nltk"
   ]
  },
  {
   "cell_type": "code",
   "execution_count": null,
   "metadata": {
    "id": "y3MHrZfspuzc"
   },
   "outputs": [],
   "source": [
    "#import necessary library\n",
    "import pandas as pd\n",
    "import gensim\n",
    "from nltk import word_tokenize\n",
    "import numpy as np\n",
    "from string import punctuation\n",
    "import re\n",
    "from nltk.stem import PorterStemmer\n",
    "import nltk\n",
    "\n",
    "stemmer = PorterStemmer ()\n",
    "nltk.download ('punkt')"
   ]
  },
  {
   "cell_type": "code",
   "execution_count": null,
   "metadata": {
    "colab": {
     "base_uri": "https://localhost:8080/",
     "height": 206
    },
    "id": "1NSBvbV5puzh",
    "outputId": "bec60874-5358-4d49-a1a6-bfa0c734fd37"
   },
   "outputs": [
    {
     "data": {
      "text/html": [
       "\n",
       "  <div id=\"df-404e3dcc-e33a-4073-aaa7-d8d8648bfaeb\">\n",
       "    <div class=\"colab-df-container\">\n",
       "      <div>\n",
       "<style scoped>\n",
       "    .dataframe tbody tr th:only-of-type {\n",
       "        vertical-align: middle;\n",
       "    }\n",
       "\n",
       "    .dataframe tbody tr th {\n",
       "        vertical-align: top;\n",
       "    }\n",
       "\n",
       "    .dataframe thead th {\n",
       "        text-align: right;\n",
       "    }\n",
       "</style>\n",
       "<table border=\"1\" class=\"dataframe\">\n",
       "  <thead>\n",
       "    <tr style=\"text-align: right;\">\n",
       "      <th></th>\n",
       "      <th>questions</th>\n",
       "      <th>answers</th>\n",
       "    </tr>\n",
       "  </thead>\n",
       "  <tbody>\n",
       "    <tr>\n",
       "      <th>0</th>\n",
       "      <td>What is a novel coronavirus?</td>\n",
       "      <td>A novel coronavirus is a new coronavirus that ...</td>\n",
       "    </tr>\n",
       "    <tr>\n",
       "      <th>1</th>\n",
       "      <td>Why is the disease being called coronavirus di...</td>\n",
       "      <td>On February 11, 2020 the World Health Organiza...</td>\n",
       "    </tr>\n",
       "    <tr>\n",
       "      <th>2</th>\n",
       "      <td>How does the virus spread?</td>\n",
       "      <td>The virus that causes COVID-19 is thought to s...</td>\n",
       "    </tr>\n",
       "    <tr>\n",
       "      <th>3</th>\n",
       "      <td>Can I get COVID-19 from food (including restau...</td>\n",
       "      <td>Currently there is no evidence that people can...</td>\n",
       "    </tr>\n",
       "    <tr>\n",
       "      <th>4</th>\n",
       "      <td>Will warm weather stop the outbreak of COVID-19?</td>\n",
       "      <td>It is not yet known whether weather and temper...</td>\n",
       "    </tr>\n",
       "  </tbody>\n",
       "</table>\n",
       "</div>\n",
       "      <button class=\"colab-df-convert\" onclick=\"convertToInteractive('df-404e3dcc-e33a-4073-aaa7-d8d8648bfaeb')\"\n",
       "              title=\"Convert this dataframe to an interactive table.\"\n",
       "              style=\"display:none;\">\n",
       "        \n",
       "  <svg xmlns=\"http://www.w3.org/2000/svg\" height=\"24px\"viewBox=\"0 0 24 24\"\n",
       "       width=\"24px\">\n",
       "    <path d=\"M0 0h24v24H0V0z\" fill=\"none\"/>\n",
       "    <path d=\"M18.56 5.44l.94 2.06.94-2.06 2.06-.94-2.06-.94-.94-2.06-.94 2.06-2.06.94zm-11 1L8.5 8.5l.94-2.06 2.06-.94-2.06-.94L8.5 2.5l-.94 2.06-2.06.94zm10 10l.94 2.06.94-2.06 2.06-.94-2.06-.94-.94-2.06-.94 2.06-2.06.94z\"/><path d=\"M17.41 7.96l-1.37-1.37c-.4-.4-.92-.59-1.43-.59-.52 0-1.04.2-1.43.59L10.3 9.45l-7.72 7.72c-.78.78-.78 2.05 0 2.83L4 21.41c.39.39.9.59 1.41.59.51 0 1.02-.2 1.41-.59l7.78-7.78 2.81-2.81c.8-.78.8-2.07 0-2.86zM5.41 20L4 18.59l7.72-7.72 1.47 1.35L5.41 20z\"/>\n",
       "  </svg>\n",
       "      </button>\n",
       "      \n",
       "  <style>\n",
       "    .colab-df-container {\n",
       "      display:flex;\n",
       "      flex-wrap:wrap;\n",
       "      gap: 12px;\n",
       "    }\n",
       "\n",
       "    .colab-df-convert {\n",
       "      background-color: #E8F0FE;\n",
       "      border: none;\n",
       "      border-radius: 50%;\n",
       "      cursor: pointer;\n",
       "      display: none;\n",
       "      fill: #1967D2;\n",
       "      height: 32px;\n",
       "      padding: 0 0 0 0;\n",
       "      width: 32px;\n",
       "    }\n",
       "\n",
       "    .colab-df-convert:hover {\n",
       "      background-color: #E2EBFA;\n",
       "      box-shadow: 0px 1px 2px rgba(60, 64, 67, 0.3), 0px 1px 3px 1px rgba(60, 64, 67, 0.15);\n",
       "      fill: #174EA6;\n",
       "    }\n",
       "\n",
       "    [theme=dark] .colab-df-convert {\n",
       "      background-color: #3B4455;\n",
       "      fill: #D2E3FC;\n",
       "    }\n",
       "\n",
       "    [theme=dark] .colab-df-convert:hover {\n",
       "      background-color: #434B5C;\n",
       "      box-shadow: 0px 1px 3px 1px rgba(0, 0, 0, 0.15);\n",
       "      filter: drop-shadow(0px 1px 2px rgba(0, 0, 0, 0.3));\n",
       "      fill: #FFFFFF;\n",
       "    }\n",
       "  </style>\n",
       "\n",
       "      <script>\n",
       "        const buttonEl =\n",
       "          document.querySelector('#df-404e3dcc-e33a-4073-aaa7-d8d8648bfaeb button.colab-df-convert');\n",
       "        buttonEl.style.display =\n",
       "          google.colab.kernel.accessAllowed ? 'block' : 'none';\n",
       "\n",
       "        async function convertToInteractive(key) {\n",
       "          const element = document.querySelector('#df-404e3dcc-e33a-4073-aaa7-d8d8648bfaeb');\n",
       "          const dataTable =\n",
       "            await google.colab.kernel.invokeFunction('convertToInteractive',\n",
       "                                                     [key], {});\n",
       "          if (!dataTable) return;\n",
       "\n",
       "          const docLinkHtml = 'Like what you see? Visit the ' +\n",
       "            '<a target=\"_blank\" href=https://colab.research.google.com/notebooks/data_table.ipynb>data table notebook</a>'\n",
       "            + ' to learn more about interactive tables.';\n",
       "          element.innerHTML = '';\n",
       "          dataTable['output_type'] = 'display_data';\n",
       "          await google.colab.output.renderOutput(dataTable, element);\n",
       "          const docLink = document.createElement('div');\n",
       "          docLink.innerHTML = docLinkHtml;\n",
       "          element.appendChild(docLink);\n",
       "        }\n",
       "      </script>\n",
       "    </div>\n",
       "  </div>\n",
       "  "
      ],
      "text/plain": [
       "                                           questions  \\\n",
       "0                       What is a novel coronavirus?   \n",
       "1  Why is the disease being called coronavirus di...   \n",
       "2                         How does the virus spread?   \n",
       "3  Can I get COVID-19 from food (including restau...   \n",
       "4   Will warm weather stop the outbreak of COVID-19?   \n",
       "\n",
       "                                             answers  \n",
       "0  A novel coronavirus is a new coronavirus that ...  \n",
       "1  On February 11, 2020 the World Health Organiza...  \n",
       "2  The virus that causes COVID-19 is thought to s...  \n",
       "3  Currently there is no evidence that people can...  \n",
       "4  It is not yet known whether weather and temper...  "
      ]
     },
     "execution_count": 5,
     "metadata": {},
     "output_type": "execute_result"
    }
   ],
   "source": [
    "questions_answers_data = pd.read_csv('data/covid_faq.csv')\n",
    "questions_answers_data.head ()"
   ]
  },
  {
   "cell_type": "code",
   "execution_count": null,
   "metadata": {
    "colab": {
     "base_uri": "https://localhost:8080/"
    },
    "id": "GpmE382Kpuzn",
    "outputId": "dd41aa96-77ae-4b13-d28c-5e8ed6887f28"
   },
   "outputs": [
    {
     "data": {
      "text/plain": [
       "['what', 'is', 'a', 'novel', 'coronaviru']"
      ]
     },
     "execution_count": 6,
     "metadata": {},
     "output_type": "execute_result"
    }
   ],
   "source": [
    "#Process the data\n",
    "translator = str.maketrans('','',punctuation)\n",
    "covid19_data = [data.translate(translator).lower().split () for data in questions_answers_data.values.ravel()]\n",
    "stemmed_data = []\n",
    "#stemming words is important to reduce redundancy\n",
    "for data in covid19_data:\n",
    "    new_data = []\n",
    "    for word in data:\n",
    "        new_data.append (stemmer.stem (word))\n",
    "    stemmed_data.append (new_data)\n",
    "stemmed_data[0]"
   ]
  },
  {
   "cell_type": "code",
   "execution_count": null,
   "metadata": {
    "id": "TC47nTNHpuzs"
   },
   "outputs": [],
   "source": [
    "#Build words embeddings\n",
    "model = gensim.models.word2vec.Word2Vec (stemmed_data, iter = 500)"
   ]
  },
  {
   "cell_type": "code",
   "execution_count": null,
   "metadata": {
    "colab": {
     "base_uri": "https://localhost:8080/"
    },
    "id": "uNySFykupuzw",
    "outputId": "5c76b291-52a0-40f2-ca0c-5999d02293f3"
   },
   "outputs": [
    {
     "data": {
      "text/plain": [
       "[('novel', 0.4405056834220886),\n",
       " ('way', 0.38052836060523987),\n",
       " ('thought', 0.356001079082489),\n",
       " ('2019', 0.32111015915870667),\n",
       " ('coronavirus', 0.28446969389915466),\n",
       " ('mainli', 0.27395784854888916),\n",
       " ('caus', 0.2720997631549835),\n",
       " ('we', 0.24451205134391785),\n",
       " ('current', 0.24158185720443726),\n",
       " ('eye', 0.23453915119171143)]"
      ]
     },
     "execution_count": 8,
     "metadata": {},
     "output_type": "execute_result"
    }
   ],
   "source": [
    "#get the most similar word to the word 'coronavirus'\n",
    "stemmed_word = stemmer.stem ('coronavirus')\n",
    "model.wv.most_similar (stemmed_word)"
   ]
  },
  {
   "cell_type": "code",
   "execution_count": null,
   "metadata": {
    "colab": {
     "base_uri": "https://localhost:8080/"
    },
    "id": "NbG3XpRQpuz2",
    "outputId": "34cd9520-6956-4c68-9185-dbee0ecb7edf"
   },
   "outputs": [
    {
     "name": "stdout",
     "output_type": "stream",
     "text": [
      "similarity between (question1,question2) : 0.5672325491905212 \n",
      "similarity between (question1,question3): 0.9393385648727417\n"
     ]
    }
   ],
   "source": [
    "#Some examples of sentences similarity\n",
    "question1 = \"what is coronavirus\"\n",
    "question2 = \"what is community spread\"\n",
    "question3 = \"what is novel coronavirus\"\n",
    "q1 = [stemmer.stem (data) for data in word_tokenize(question1) if stemmer.stem (data) in model.wv]\n",
    "q2 = [stemmer.stem (data) for data in word_tokenize(question2) if stemmer.stem (data) in model.wv]\n",
    "q3 = [stemmer.stem (data) for data in word_tokenize(question3) if stemmer.stem (data) in model.wv]\n",
    "print(f\"similarity between (question1,question2) : {model.wv.n_similarity(q1, q2)} \\nsimilarity between (question1,question3): {model.wv.n_similarity(q1,q3)}\")"
   ]
  },
  {
   "cell_type": "code",
   "execution_count": null,
   "metadata": {
    "id": "tN_l33Wvpuz-"
   },
   "outputs": [],
   "source": [
    "\n",
    "\n",
    "class chatbot ():\n",
    "\n",
    "    def __init__(self, name = 'bot'):\n",
    "        self.name = name\n",
    "        self.data = {}\n",
    "\n",
    "    def fit (self, data):\n",
    "        #create the dictionary questions-answers\n",
    "        for i, conversation in enumerate (data):\n",
    "            question, answer = conversation\n",
    "            self.data [question.lower ()] = answer.lower ()\n",
    "\n",
    "    def get_response (self, request, threshold = 0.75):\n",
    "        #search the most similar questions to the user request and return the corresponding question\n",
    "        request_token = [stemmer.stem (word) for word in word_tokenize (request) if stemmer.stem (word) in model.wv] or ['to']\n",
    "        best_similarity = 0.\n",
    "        best_question = ''\n",
    "        for question in self.data:\n",
    "            question_token = [stemmer.stem (word) for word in word_tokenize (question.lower ()) if stemmer.stem (word) in model.wv]\n",
    "            similarity = model.wv.n_similarity (question_token, request_token)\n",
    "            if similarity > best_similarity:\n",
    "                best_similarity = similarity\n",
    "                best_question = question\n",
    "        if best_similarity < threshold:\n",
    "                return \"I am sorry, I do not understand, or I have not enough information.\"\n",
    "        return self.data.get (best_question)\n",
    "\n"
   ]
  },
  {
   "cell_type": "code",
   "execution_count": null,
   "metadata": {
    "id": "bM_VQqygpu0G"
   },
   "outputs": [],
   "source": [
    "covid19_bot = chatbot ('Covid19_bot')\n",
    "covid19_bot.fit (questions_answers_data.to_numpy ())"
   ]
  },
  {
   "cell_type": "code",
   "execution_count": null,
   "metadata": {
    "colab": {
     "base_uri": "https://localhost:8080/"
    },
    "id": "LJ991C4apu0K",
    "outputId": "5831e977-07fd-4d10-a0ef-5f9eb6bb70a3"
   },
   "outputs": [
    {
     "name": "stdout",
     "output_type": "stream",
     "text": [
      "You: What is novel coronavirus?\n",
      "Covid19_bot: a novel coronavirus is a new coronavirus that has not been previously identified. the virus causing coronavirus disease 2019 (covid-19), is not the same as the coronaviruses that commonly circulate among humans and cause mild illness, like the common cold.\n",
      "You: What are the symptoms?\n",
      "Covid19_bot: people with covid-19 have reported a wide range of symptoms – from mild symptoms to severe illness. symptoms may appear 2-14 days after exposure to the virus. if you have fever, cough, or other symptoms, you might have covid-19.\n",
      "You: What to do if someone get sick?\n",
      "Covid19_bot: most people who get covid-19 will be able to recover at home. cdc has directions for people who are recovering at home and their caregivers, including: stay home when you are sick, except to get medical care. use a separate room and bathroom for sick household members (if possible). wash your hands often with soap and water for at least 20 seconds, especially after blowing your nose, coughing, or sneezing; going to the bathroom; and before eating or preparing food. if soap and water are not readily available, use an alcohol-based hand sanitizer with at least 60% alcohol. always wash hands with soap and water if hands are visibly dirty. provide your sick household member with clean disposable facemasks to wear at home, if available, to help prevent spreading covid-19 to others. clean the sick room and bathroom, as needed, to avoid unnecessary contact with the sick person. however, some people may need emergency medical attention. watch for symptoms and learn when to seek emergency medical attention. when to seek emergency medical attention look for emergency warning signs* for covid-19. if someone is showing any of these signs, seek emergency medical care immediately trouble breathing persistent pain or pressure in the chest new confusion inability to wake or stay awake bluish lips or face *this list is not all possible symptoms. please call your medical provider for any other symptoms that are severe or concerning to you. call 911 or call ahead to your local emergency facility: notify the operator that you are seeking care for someone who has or may have covid-19.\n",
      "You: How to protect myself?\n",
      "Covid19_bot: visit the how to protect yourself & others page to learn about how to protect yourself from respiratory illnesses, like covid-19.\n",
      "You: Wearing a mask can help me?\n",
      "Covid19_bot: cdc recommends that everyone 2 years and older wear a mask that covers their nose and mouth in public settings when around people not living in your household, particularly where other social distancing measures are difficult to maintain. masks should not be put on babies or children younger than 2 because of the danger of suffocation. children younger than 2 years of age are listed as an exception as well as anyone who has trouble breathing or is unconscious, incapacitated, or otherwise unable to remove the mask without assistance.\n",
      "You: What to do with my child?\n",
      "Covid19_bot: if your child’s healthcare provider tells you to go to the hospital for any health problem, including covid-19 ask the healthcare provider to let the hospital know you are coming and to share important information about caring for your child. visiting policies may have changed due to covid-19. if your child’s hospital policy does not allow an adult to stay with a child, ask your child’s healthcare provider for a statement explaining your child’s need for a familiar adult to be present. bring your care plans/emergency notebook with you along with paper and pen to write down questions you have during your time at the hospital.\n",
      "You: Can my child go to school?\n",
      "Covid19_bot: if your child’s healthcare provider tells you to go to the hospital for any health problem, including covid-19 ask the healthcare provider to let the hospital know you are coming and to share important information about caring for your child. visiting policies may have changed due to covid-19. if your child’s hospital policy does not allow an adult to stay with a child, ask your child’s healthcare provider for a statement explaining your child’s need for a familiar adult to be present. bring your care plans/emergency notebook with you along with paper and pen to write down questions you have during your time at the hospital.\n",
      "You: When school will be opened?\n",
      "Covid19_bot: check with your school on plans to continue meal services during the school dismissal. many schools are keeping school facilities open to allow families to pick up meals or are providing grab-and-go meals at a central location.\n",
      "You: kkkkkkkkkkkk\n",
      "Covid19_bot: I am sorry, I do not understand, or I have not enough information.\n",
      "You: Bye \n",
      "Covid19_bot: I am sorry, I do not understand, or I have not enough information.\n",
      "You: Bye\n",
      "Bot : Bye... Let me know if you need help.\n"
     ]
    }
   ],
   "source": [
    "while True:\n",
    "    request = input('You: ')\n",
    "    if request.lower() == 'bye':\n",
    "        print('Bot : Bye... Let me know if you need help.')\n",
    "        break\n",
    "    response = covid19_bot.get_response(request.lower (), 0.5)\n",
    "    print(f'{covid19_bot.name}: {response}')"
   ]
  },
  {
   "cell_type": "markdown",
   "metadata": {
    "id": "nej7xVlupu0N"
   },
   "source": [
    "It work but is not yet perfect, as we see, some questions are not well answered by the bot. Maybe, the problems is that words vectors focus only on cooccurence, so it contain limited semantic information. Maybe, using Deep neural network( like Siamese network)\n",
    "is a good alternative, siamese network is good for question duplicates."
   ]
  },
  {
   "cell_type": "markdown",
   "metadata": {
    "id": "yhvLCUDipu0Q"
   },
   "source": [
    "# Open Domain Chatbot with huggingface transformers"
   ]
  },
  {
   "cell_type": "markdown",
   "metadata": {
    "id": "d-QqGRqSpu0W"
   },
   "source": [
    "Training a transformer from scratch is a compute-intensive process, it is time-consuming, it may take days or weeks. Thanks to huggingface for building the library transformers, data scientist can reduce training time,\n",
    "reduce computational cost, furthermore state-of-the-art models are available to use. It is a great tool for organization that build and deploy production-grade machine learning solutions."
   ]
  },
  {
   "cell_type": "code",
   "execution_count": null,
   "metadata": {
    "id": "rsE4_ajRpu0Y"
   },
   "outputs": [],
   "source": [
    "!pip3 install transformers"
   ]
  },
  {
   "cell_type": "code",
   "execution_count": null,
   "metadata": {
    "colab": {
     "base_uri": "https://localhost:8080/",
     "height": 177,
     "referenced_widgets": [
      "744a6285d7e74e0a9e348884e25cc10d",
      "dcd3beb4c76c4895981950b165034e44",
      "d384d755693a4c469a02a5402c4b2264",
      "32e0ebca9e924689965c6d0494bdc69a",
      "4394e56b42d3425db03473e4bc754986",
      "2ef16397714c4e848c09264b1382eea8",
      "bb38daef51de48bf8ac36b2dc7d2e298",
      "126d8417b47949988b9647b8d98d7e7c",
      "cfd26a11e5894c63a6b59e047be7ea19",
      "675e50124649419c850c46e4f921347e",
      "cb471f8d389649e78fe5086b4f20d86d",
      "30260a850a274367b927efcd94de3516",
      "1212760cb82c438c909643ea108308ae",
      "db0a1e359258493cac113e4e724abe16",
      "d23cb632903b4f1d88011bb3f1c8a976",
      "2be5f4367ced40efac7fa37735cd4f42",
      "40896f467f9a439a927e0dae34056f88",
      "c67aef5c12b242f7a14fc8bc1758713d",
      "9d6e5a7fa7c64e439414ad96e58c2eab",
      "9beda69321854a57b9e4336832bdff83",
      "c02b6a001ee84124bdd40702012789e0",
      "a5611de2abd04759af325edca8765af0",
      "a5431306e6dd4c2c97d8972f8c396593",
      "d400f72acc2d4388a3a7e7f7e4f92454",
      "584c23a6d1be430cb393340e1ab4c35b",
      "09aa7d30f31c4e5d986db98eacbb2489",
      "354c23dac0a64859a73ab9cd7173ce12",
      "ab4868af028b4afe8c7fa37f7b7505a6",
      "f2e4fa80bd794f46b0e027e83be8ca5a",
      "0d1811bf45b940cc99d944a5ed7e57aa",
      "1ec071b6cc7e4251a4e41b481745640a",
      "28b7ddbb7c624f608b22ab6e5748f972",
      "b38147679d0d40d495f3025fee95e93e",
      "3e55a3c573264dd295ac135d6e581058",
      "6ea14152ccad42d3b9b7451ac73a203d",
      "80a23b516cd844d3b95bb5b8520aba37",
      "77ca70e6350c4621842ee13db8cab75a",
      "1136c3ad0154428a88488c39a83f6a64",
      "c7a88207a5664e1ea946c744e3278e0b",
      "e61bd2348f9f49b59be1c95793705df6",
      "12db8e956fde413b944e0dce88355906",
      "41d880e8898444299d3c237eccbacbff",
      "27a16e20a3da44148795d012f6cf3eb4",
      "c152c6e048ee4a7e9e79cfb6ce5e8434",
      "87419fda568f49c49ccbf6118ab483ac",
      "c5d3edd9a7ca4327b5ac62f45780cf6a",
      "dbc7b5e8865a4b70a46a89d10a94724c",
      "7f0561de000c42d5bc180464d05cd092",
      "7b491a12181f4543af02f81be9552fac",
      "b43d65a5eed24d529be8485dd448f5e4",
      "30b1e2800ced4f1099b238c4377a5d52",
      "7c6d7cbeaf494d82bc76efb6cd5e7c84",
      "c9b08c2cd4734b07a10a9a979273c8ea",
      "c580d3aae3ac4d9094bc890bc558be31",
      "fc9adcf9d6dc4643b985c2a8d5ce4b9e"
     ]
    },
    "id": "NvzU8zRHpu0e",
    "outputId": "33063ed8-8649-480b-efe2-13627f95e8b7"
   },
   "outputs": [
    {
     "data": {
      "application/vnd.jupyter.widget-view+json": {
       "model_id": "744a6285d7e74e0a9e348884e25cc10d",
       "version_major": 2,
       "version_minor": 0
      },
      "text/plain": [
       "Downloading:   0%|          | 0.00/26.0 [00:00<?, ?B/s]"
      ]
     },
     "metadata": {},
     "output_type": "display_data"
    },
    {
     "data": {
      "application/vnd.jupyter.widget-view+json": {
       "model_id": "30260a850a274367b927efcd94de3516",
       "version_major": 2,
       "version_minor": 0
      },
      "text/plain": [
       "Downloading:   0%|          | 0.00/642 [00:00<?, ?B/s]"
      ]
     },
     "metadata": {},
     "output_type": "display_data"
    },
    {
     "data": {
      "application/vnd.jupyter.widget-view+json": {
       "model_id": "a5431306e6dd4c2c97d8972f8c396593",
       "version_major": 2,
       "version_minor": 0
      },
      "text/plain": [
       "Downloading:   0%|          | 0.00/0.99M [00:00<?, ?B/s]"
      ]
     },
     "metadata": {},
     "output_type": "display_data"
    },
    {
     "data": {
      "application/vnd.jupyter.widget-view+json": {
       "model_id": "3e55a3c573264dd295ac135d6e581058",
       "version_major": 2,
       "version_minor": 0
      },
      "text/plain": [
       "Downloading:   0%|          | 0.00/446k [00:00<?, ?B/s]"
      ]
     },
     "metadata": {},
     "output_type": "display_data"
    },
    {
     "data": {
      "application/vnd.jupyter.widget-view+json": {
       "model_id": "87419fda568f49c49ccbf6118ab483ac",
       "version_major": 2,
       "version_minor": 0
      },
      "text/plain": [
       "Downloading:   0%|          | 0.00/823M [00:00<?, ?B/s]"
      ]
     },
     "metadata": {},
     "output_type": "display_data"
    }
   ],
   "source": [
    "from transformers import AutoModelForCausalLM, AutoTokenizer\n",
    "import torch\n",
    "#we need to specify the model_name so the transformers can download it\n",
    "model_name = \"microsoft/DialoGPT-medium\"\n",
    "\n",
    "tokenizer = AutoTokenizer.from_pretrained(model_name)\n",
    "model = AutoModelForCausalLM.from_pretrained(model_name)"
   ]
  },
  {
   "cell_type": "markdown",
   "metadata": {
    "id": "_DSIj5D4pu0h"
   },
   "source": [
    "Because deep learning model does't use text as input, we need to transform text to numerical data types, it is the tokenizer work\n",
    "<br> Each transformer has its own tokenizer, because they was trained on different corpus of text."
   ]
  },
  {
   "cell_type": "code",
   "execution_count": null,
   "metadata": {
    "colab": {
     "base_uri": "https://localhost:8080/"
    },
    "id": "uuQkYeR1pu0m",
    "outputId": "6c248dd7-36b9-463e-e0a2-f5e3ae22a2ae"
   },
   "outputs": [
    {
     "data": {
      "text/plain": [
       "tensor([[15496,    11,   340,   318,   257,   922,  1110,   284,  4656,   220,\n",
       "         50256]])"
      ]
     },
     "execution_count": 15,
     "metadata": {},
     "output_type": "execute_result"
    }
   ],
   "source": [
    "text = 'Hello, it is a good day to die '\n",
    "text_token = tokenizer.encode(text + tokenizer.eos_token, return_tensors = 'pt')\n",
    "text_token"
   ]
  },
  {
   "cell_type": "markdown",
   "metadata": {
    "id": "NYA0cbU5pu0r"
   },
   "source": [
    "We will use function **model.generate()** to generate some text given the input. Documentation of DialoGPT is the same as GPT2 transformer\n",
    "because it was built on the GPT2 transformer architecture and trained on conversation extracted from Reddit."
   ]
  },
  {
   "cell_type": "markdown",
   "metadata": {
    "id": "ho89kzy2pu0t"
   },
   "source": []
  },
  {
   "cell_type": "code",
   "execution_count": null,
   "metadata": {
    "colab": {
     "base_uri": "https://localhost:8080/",
     "height": 70
    },
    "id": "xfH8F1thpu0v",
    "outputId": "89d4c0f7-8e9a-4016-9fc9-2686e41f5150"
   },
   "outputs": [
    {
     "name": "stderr",
     "output_type": "stream",
     "text": [
      "Setting `pad_token_id` to `eos_token_id`:50256 for open-end generation.\n"
     ]
    },
    {
     "name": "stdout",
     "output_type": "stream",
     "text": [
      "\n"
     ]
    },
    {
     "data": {
      "application/vnd.google.colaboratory.intrinsic+json": {
       "type": "string"
      },
      "text/plain": [
       "'Hello, it is a good day to die <|endoftext|>Hello, it is a good day to die'"
      ]
     },
     "execution_count": 16,
     "metadata": {},
     "output_type": "execute_result"
    }
   ],
   "source": [
    "\n",
    "output_token = model.generate(text_token,return_tensors = 'pt')\n",
    "#We will decode the output\n",
    "print ()\n",
    "tokenizer.decode(output_token[0])"
   ]
  },
  {
   "cell_type": "code",
   "execution_count": null,
   "metadata": {
    "colab": {
     "base_uri": "https://localhost:8080/"
    },
    "id": "q8TfgnE6pu00",
    "outputId": "984ca09d-a84c-45f9-9631-c30d977b8d30"
   },
   "outputs": [
    {
     "name": "stdout",
     "output_type": "stream",
     "text": [
      "You: Hello\n",
      "OpenBot: Hello! How are you?\n",
      "You: L am fine, thank you\n",
      "OpenBot: No problem. I'm glad you're okay!\n",
      "You: Who is Zinedine zidane?\n",
      "OpenBot: The guy that got the ball to Ronaldo on the goal.\n",
      "You: So, who is Maradona ? \n",
      "OpenBot: The best player of all time.\n",
      "You: Okay ...Do you know to be a good soccer player?\n",
      "OpenBot: I know how to play soccer.\n",
      "You: Are you a good one?\n",
      "OpenBot: I'm a good one.\n",
      "You: How to be rich?\n",
      "OpenBot: Or just rich enough to have a family.\n",
      "You: Yaeh, so how?\n",
      "OpenBot: I just have a really good imagination.\n",
      "You: So you can't give me a answer?\n",
      "OpenBot: You can't ask a question.\n",
      "You: Ok ...Bye\n",
      "OpenBot: Bye... but not before I have a bit of a talk with you.\n",
      "You: Bye\n",
      "OpenBot : It was nice chatting to you. Have a good day.\n"
     ]
    }
   ],
   "source": [
    "chat_history_ids = torch.LongTensor ([])\n",
    "while True:\n",
    "    request = input(\"You: \")\n",
    "    if request.lower() == 'bye':\n",
    "        print('OpenBot : It was nice chatting to you. Have a good day.')\n",
    "        break\n",
    "    input_token = tokenizer.encode(request + tokenizer.eos_token, return_tensors=\"pt\")\n",
    "    chat_history = torch.cat ([chat_history_ids, input_token], dim=-1)\n",
    "    output_with_chat_history = model.generate(\n",
    "        chat_history,\n",
    "        max_length=1000,        #max length of output\n",
    "        do_sample=True,         #introduce randomness for more creative response\n",
    "        top_p=0.95,             # nucleus sampling: choosing from the smallest set of words whose cummulative probability exceeds 0.95 probability\n",
    "        top_k=0,                # disabling top k sampling, top k sampling is used to ensure that the less probable words should not have any chance at all\n",
    "        temperature=0.5,        # temperature is used to introduce randomness, 0.0 is same as greed search, and 1.0 mean more randomness and creativity.\n",
    "        pad_token_id=tokenizer.eos_token_id\n",
    "    )\n",
    "    response = tokenizer.decode(output_with_chat_history[:, chat_history.shape[-1]:][0], skip_special_tokens=True)\n",
    "    print(\"OpenBot: {}\".format(response))"
   ]
  },
  {
   "cell_type": "code",
   "execution_count": null,
   "metadata": {
    "id": "OukNDoC3pu04"
   },
   "outputs": [],
   "source": []
  },
  {
   "cell_type": "markdown",
   "metadata": {
    "id": "becd1_NOvimy"
   },
   "source": [
    "As we can see, Transformers hold the potential to understand the relationship between sequential elements that are far from each other. They have more creativity. But these advantages have drawbacks, a model with billions of parameters are hard to train."
   ]
  },
  {
   "cell_type": "code",
   "execution_count": null,
   "metadata": {
    "id": "KQTNWVl6xiRF"
   },
   "outputs": [],
   "source": []
  }
 ],
 "metadata": {
  "colab": {
   "provenance": []
  },
  "kernelspec": {
   "display_name": "Python 3 (ipykernel)",
   "language": "python",
   "name": "python3"
  },
  "language_info": {
   "codemirror_mode": {
    "name": "ipython",
    "version": 3
   },
   "file_extension": ".py",
   "mimetype": "text/x-python",
   "name": "python",
   "nbconvert_exporter": "python",
   "pygments_lexer": "ipython3",
   "version": "3.11.2"
  },
  "widgets": {
   "application/vnd.jupyter.widget-state+json": {
    "09aa7d30f31c4e5d986db98eacbb2489": {
     "model_module": "@jupyter-widgets/controls",
     "model_module_version": "1.5.0",
     "model_name": "HTMLModel",
     "state": {
      "_dom_classes": [],
      "_model_module": "@jupyter-widgets/controls",
      "_model_module_version": "1.5.0",
      "_model_name": "HTMLModel",
      "_view_count": null,
      "_view_module": "@jupyter-widgets/controls",
      "_view_module_version": "1.5.0",
      "_view_name": "HTMLView",
      "description": "",
      "description_tooltip": null,
      "layout": "IPY_MODEL_28b7ddbb7c624f608b22ab6e5748f972",
      "placeholder": "​",
      "style": "IPY_MODEL_b38147679d0d40d495f3025fee95e93e",
      "value": " 0.99M/0.99M [00:00&lt;00:00, 931kB/s]"
     }
    },
    "0d1811bf45b940cc99d944a5ed7e57aa": {
     "model_module": "@jupyter-widgets/base",
     "model_module_version": "1.2.0",
     "model_name": "LayoutModel",
     "state": {
      "_model_module": "@jupyter-widgets/base",
      "_model_module_version": "1.2.0",
      "_model_name": "LayoutModel",
      "_view_count": null,
      "_view_module": "@jupyter-widgets/base",
      "_view_module_version": "1.2.0",
      "_view_name": "LayoutView",
      "align_content": null,
      "align_items": null,
      "align_self": null,
      "border": null,
      "bottom": null,
      "display": null,
      "flex": null,
      "flex_flow": null,
      "grid_area": null,
      "grid_auto_columns": null,
      "grid_auto_flow": null,
      "grid_auto_rows": null,
      "grid_column": null,
      "grid_gap": null,
      "grid_row": null,
      "grid_template_areas": null,
      "grid_template_columns": null,
      "grid_template_rows": null,
      "height": null,
      "justify_content": null,
      "justify_items": null,
      "left": null,
      "margin": null,
      "max_height": null,
      "max_width": null,
      "min_height": null,
      "min_width": null,
      "object_fit": null,
      "object_position": null,
      "order": null,
      "overflow": null,
      "overflow_x": null,
      "overflow_y": null,
      "padding": null,
      "right": null,
      "top": null,
      "visibility": null,
      "width": null
     }
    },
    "1136c3ad0154428a88488c39a83f6a64": {
     "model_module": "@jupyter-widgets/base",
     "model_module_version": "1.2.0",
     "model_name": "LayoutModel",
     "state": {
      "_model_module": "@jupyter-widgets/base",
      "_model_module_version": "1.2.0",
      "_model_name": "LayoutModel",
      "_view_count": null,
      "_view_module": "@jupyter-widgets/base",
      "_view_module_version": "1.2.0",
      "_view_name": "LayoutView",
      "align_content": null,
      "align_items": null,
      "align_self": null,
      "border": null,
      "bottom": null,
      "display": null,
      "flex": null,
      "flex_flow": null,
      "grid_area": null,
      "grid_auto_columns": null,
      "grid_auto_flow": null,
      "grid_auto_rows": null,
      "grid_column": null,
      "grid_gap": null,
      "grid_row": null,
      "grid_template_areas": null,
      "grid_template_columns": null,
      "grid_template_rows": null,
      "height": null,
      "justify_content": null,
      "justify_items": null,
      "left": null,
      "margin": null,
      "max_height": null,
      "max_width": null,
      "min_height": null,
      "min_width": null,
      "object_fit": null,
      "object_position": null,
      "order": null,
      "overflow": null,
      "overflow_x": null,
      "overflow_y": null,
      "padding": null,
      "right": null,
      "top": null,
      "visibility": null,
      "width": null
     }
    },
    "1212760cb82c438c909643ea108308ae": {
     "model_module": "@jupyter-widgets/controls",
     "model_module_version": "1.5.0",
     "model_name": "HTMLModel",
     "state": {
      "_dom_classes": [],
      "_model_module": "@jupyter-widgets/controls",
      "_model_module_version": "1.5.0",
      "_model_name": "HTMLModel",
      "_view_count": null,
      "_view_module": "@jupyter-widgets/controls",
      "_view_module_version": "1.5.0",
      "_view_name": "HTMLView",
      "description": "",
      "description_tooltip": null,
      "layout": "IPY_MODEL_40896f467f9a439a927e0dae34056f88",
      "placeholder": "​",
      "style": "IPY_MODEL_c67aef5c12b242f7a14fc8bc1758713d",
      "value": "Downloading: 100%"
     }
    },
    "126d8417b47949988b9647b8d98d7e7c": {
     "model_module": "@jupyter-widgets/base",
     "model_module_version": "1.2.0",
     "model_name": "LayoutModel",
     "state": {
      "_model_module": "@jupyter-widgets/base",
      "_model_module_version": "1.2.0",
      "_model_name": "LayoutModel",
      "_view_count": null,
      "_view_module": "@jupyter-widgets/base",
      "_view_module_version": "1.2.0",
      "_view_name": "LayoutView",
      "align_content": null,
      "align_items": null,
      "align_self": null,
      "border": null,
      "bottom": null,
      "display": null,
      "flex": null,
      "flex_flow": null,
      "grid_area": null,
      "grid_auto_columns": null,
      "grid_auto_flow": null,
      "grid_auto_rows": null,
      "grid_column": null,
      "grid_gap": null,
      "grid_row": null,
      "grid_template_areas": null,
      "grid_template_columns": null,
      "grid_template_rows": null,
      "height": null,
      "justify_content": null,
      "justify_items": null,
      "left": null,
      "margin": null,
      "max_height": null,
      "max_width": null,
      "min_height": null,
      "min_width": null,
      "object_fit": null,
      "object_position": null,
      "order": null,
      "overflow": null,
      "overflow_x": null,
      "overflow_y": null,
      "padding": null,
      "right": null,
      "top": null,
      "visibility": null,
      "width": null
     }
    },
    "12db8e956fde413b944e0dce88355906": {
     "model_module": "@jupyter-widgets/base",
     "model_module_version": "1.2.0",
     "model_name": "LayoutModel",
     "state": {
      "_model_module": "@jupyter-widgets/base",
      "_model_module_version": "1.2.0",
      "_model_name": "LayoutModel",
      "_view_count": null,
      "_view_module": "@jupyter-widgets/base",
      "_view_module_version": "1.2.0",
      "_view_name": "LayoutView",
      "align_content": null,
      "align_items": null,
      "align_self": null,
      "border": null,
      "bottom": null,
      "display": null,
      "flex": null,
      "flex_flow": null,
      "grid_area": null,
      "grid_auto_columns": null,
      "grid_auto_flow": null,
      "grid_auto_rows": null,
      "grid_column": null,
      "grid_gap": null,
      "grid_row": null,
      "grid_template_areas": null,
      "grid_template_columns": null,
      "grid_template_rows": null,
      "height": null,
      "justify_content": null,
      "justify_items": null,
      "left": null,
      "margin": null,
      "max_height": null,
      "max_width": null,
      "min_height": null,
      "min_width": null,
      "object_fit": null,
      "object_position": null,
      "order": null,
      "overflow": null,
      "overflow_x": null,
      "overflow_y": null,
      "padding": null,
      "right": null,
      "top": null,
      "visibility": null,
      "width": null
     }
    },
    "1ec071b6cc7e4251a4e41b481745640a": {
     "model_module": "@jupyter-widgets/controls",
     "model_module_version": "1.5.0",
     "model_name": "ProgressStyleModel",
     "state": {
      "_model_module": "@jupyter-widgets/controls",
      "_model_module_version": "1.5.0",
      "_model_name": "ProgressStyleModel",
      "_view_count": null,
      "_view_module": "@jupyter-widgets/base",
      "_view_module_version": "1.2.0",
      "_view_name": "StyleView",
      "bar_color": null,
      "description_width": ""
     }
    },
    "27a16e20a3da44148795d012f6cf3eb4": {
     "model_module": "@jupyter-widgets/base",
     "model_module_version": "1.2.0",
     "model_name": "LayoutModel",
     "state": {
      "_model_module": "@jupyter-widgets/base",
      "_model_module_version": "1.2.0",
      "_model_name": "LayoutModel",
      "_view_count": null,
      "_view_module": "@jupyter-widgets/base",
      "_view_module_version": "1.2.0",
      "_view_name": "LayoutView",
      "align_content": null,
      "align_items": null,
      "align_self": null,
      "border": null,
      "bottom": null,
      "display": null,
      "flex": null,
      "flex_flow": null,
      "grid_area": null,
      "grid_auto_columns": null,
      "grid_auto_flow": null,
      "grid_auto_rows": null,
      "grid_column": null,
      "grid_gap": null,
      "grid_row": null,
      "grid_template_areas": null,
      "grid_template_columns": null,
      "grid_template_rows": null,
      "height": null,
      "justify_content": null,
      "justify_items": null,
      "left": null,
      "margin": null,
      "max_height": null,
      "max_width": null,
      "min_height": null,
      "min_width": null,
      "object_fit": null,
      "object_position": null,
      "order": null,
      "overflow": null,
      "overflow_x": null,
      "overflow_y": null,
      "padding": null,
      "right": null,
      "top": null,
      "visibility": null,
      "width": null
     }
    },
    "28b7ddbb7c624f608b22ab6e5748f972": {
     "model_module": "@jupyter-widgets/base",
     "model_module_version": "1.2.0",
     "model_name": "LayoutModel",
     "state": {
      "_model_module": "@jupyter-widgets/base",
      "_model_module_version": "1.2.0",
      "_model_name": "LayoutModel",
      "_view_count": null,
      "_view_module": "@jupyter-widgets/base",
      "_view_module_version": "1.2.0",
      "_view_name": "LayoutView",
      "align_content": null,
      "align_items": null,
      "align_self": null,
      "border": null,
      "bottom": null,
      "display": null,
      "flex": null,
      "flex_flow": null,
      "grid_area": null,
      "grid_auto_columns": null,
      "grid_auto_flow": null,
      "grid_auto_rows": null,
      "grid_column": null,
      "grid_gap": null,
      "grid_row": null,
      "grid_template_areas": null,
      "grid_template_columns": null,
      "grid_template_rows": null,
      "height": null,
      "justify_content": null,
      "justify_items": null,
      "left": null,
      "margin": null,
      "max_height": null,
      "max_width": null,
      "min_height": null,
      "min_width": null,
      "object_fit": null,
      "object_position": null,
      "order": null,
      "overflow": null,
      "overflow_x": null,
      "overflow_y": null,
      "padding": null,
      "right": null,
      "top": null,
      "visibility": null,
      "width": null
     }
    },
    "2be5f4367ced40efac7fa37735cd4f42": {
     "model_module": "@jupyter-widgets/base",
     "model_module_version": "1.2.0",
     "model_name": "LayoutModel",
     "state": {
      "_model_module": "@jupyter-widgets/base",
      "_model_module_version": "1.2.0",
      "_model_name": "LayoutModel",
      "_view_count": null,
      "_view_module": "@jupyter-widgets/base",
      "_view_module_version": "1.2.0",
      "_view_name": "LayoutView",
      "align_content": null,
      "align_items": null,
      "align_self": null,
      "border": null,
      "bottom": null,
      "display": null,
      "flex": null,
      "flex_flow": null,
      "grid_area": null,
      "grid_auto_columns": null,
      "grid_auto_flow": null,
      "grid_auto_rows": null,
      "grid_column": null,
      "grid_gap": null,
      "grid_row": null,
      "grid_template_areas": null,
      "grid_template_columns": null,
      "grid_template_rows": null,
      "height": null,
      "justify_content": null,
      "justify_items": null,
      "left": null,
      "margin": null,
      "max_height": null,
      "max_width": null,
      "min_height": null,
      "min_width": null,
      "object_fit": null,
      "object_position": null,
      "order": null,
      "overflow": null,
      "overflow_x": null,
      "overflow_y": null,
      "padding": null,
      "right": null,
      "top": null,
      "visibility": null,
      "width": null
     }
    },
    "2ef16397714c4e848c09264b1382eea8": {
     "model_module": "@jupyter-widgets/base",
     "model_module_version": "1.2.0",
     "model_name": "LayoutModel",
     "state": {
      "_model_module": "@jupyter-widgets/base",
      "_model_module_version": "1.2.0",
      "_model_name": "LayoutModel",
      "_view_count": null,
      "_view_module": "@jupyter-widgets/base",
      "_view_module_version": "1.2.0",
      "_view_name": "LayoutView",
      "align_content": null,
      "align_items": null,
      "align_self": null,
      "border": null,
      "bottom": null,
      "display": null,
      "flex": null,
      "flex_flow": null,
      "grid_area": null,
      "grid_auto_columns": null,
      "grid_auto_flow": null,
      "grid_auto_rows": null,
      "grid_column": null,
      "grid_gap": null,
      "grid_row": null,
      "grid_template_areas": null,
      "grid_template_columns": null,
      "grid_template_rows": null,
      "height": null,
      "justify_content": null,
      "justify_items": null,
      "left": null,
      "margin": null,
      "max_height": null,
      "max_width": null,
      "min_height": null,
      "min_width": null,
      "object_fit": null,
      "object_position": null,
      "order": null,
      "overflow": null,
      "overflow_x": null,
      "overflow_y": null,
      "padding": null,
      "right": null,
      "top": null,
      "visibility": null,
      "width": null
     }
    },
    "30260a850a274367b927efcd94de3516": {
     "model_module": "@jupyter-widgets/controls",
     "model_module_version": "1.5.0",
     "model_name": "HBoxModel",
     "state": {
      "_dom_classes": [],
      "_model_module": "@jupyter-widgets/controls",
      "_model_module_version": "1.5.0",
      "_model_name": "HBoxModel",
      "_view_count": null,
      "_view_module": "@jupyter-widgets/controls",
      "_view_module_version": "1.5.0",
      "_view_name": "HBoxView",
      "box_style": "",
      "children": [
       "IPY_MODEL_1212760cb82c438c909643ea108308ae",
       "IPY_MODEL_db0a1e359258493cac113e4e724abe16",
       "IPY_MODEL_d23cb632903b4f1d88011bb3f1c8a976"
      ],
      "layout": "IPY_MODEL_2be5f4367ced40efac7fa37735cd4f42"
     }
    },
    "30b1e2800ced4f1099b238c4377a5d52": {
     "model_module": "@jupyter-widgets/controls",
     "model_module_version": "1.5.0",
     "model_name": "DescriptionStyleModel",
     "state": {
      "_model_module": "@jupyter-widgets/controls",
      "_model_module_version": "1.5.0",
      "_model_name": "DescriptionStyleModel",
      "_view_count": null,
      "_view_module": "@jupyter-widgets/base",
      "_view_module_version": "1.2.0",
      "_view_name": "StyleView",
      "description_width": ""
     }
    },
    "32e0ebca9e924689965c6d0494bdc69a": {
     "model_module": "@jupyter-widgets/controls",
     "model_module_version": "1.5.0",
     "model_name": "HTMLModel",
     "state": {
      "_dom_classes": [],
      "_model_module": "@jupyter-widgets/controls",
      "_model_module_version": "1.5.0",
      "_model_name": "HTMLModel",
      "_view_count": null,
      "_view_module": "@jupyter-widgets/controls",
      "_view_module_version": "1.5.0",
      "_view_name": "HTMLView",
      "description": "",
      "description_tooltip": null,
      "layout": "IPY_MODEL_675e50124649419c850c46e4f921347e",
      "placeholder": "​",
      "style": "IPY_MODEL_cb471f8d389649e78fe5086b4f20d86d",
      "value": " 26.0/26.0 [00:00&lt;00:00, 221B/s]"
     }
    },
    "354c23dac0a64859a73ab9cd7173ce12": {
     "model_module": "@jupyter-widgets/base",
     "model_module_version": "1.2.0",
     "model_name": "LayoutModel",
     "state": {
      "_model_module": "@jupyter-widgets/base",
      "_model_module_version": "1.2.0",
      "_model_name": "LayoutModel",
      "_view_count": null,
      "_view_module": "@jupyter-widgets/base",
      "_view_module_version": "1.2.0",
      "_view_name": "LayoutView",
      "align_content": null,
      "align_items": null,
      "align_self": null,
      "border": null,
      "bottom": null,
      "display": null,
      "flex": null,
      "flex_flow": null,
      "grid_area": null,
      "grid_auto_columns": null,
      "grid_auto_flow": null,
      "grid_auto_rows": null,
      "grid_column": null,
      "grid_gap": null,
      "grid_row": null,
      "grid_template_areas": null,
      "grid_template_columns": null,
      "grid_template_rows": null,
      "height": null,
      "justify_content": null,
      "justify_items": null,
      "left": null,
      "margin": null,
      "max_height": null,
      "max_width": null,
      "min_height": null,
      "min_width": null,
      "object_fit": null,
      "object_position": null,
      "order": null,
      "overflow": null,
      "overflow_x": null,
      "overflow_y": null,
      "padding": null,
      "right": null,
      "top": null,
      "visibility": null,
      "width": null
     }
    },
    "3e55a3c573264dd295ac135d6e581058": {
     "model_module": "@jupyter-widgets/controls",
     "model_module_version": "1.5.0",
     "model_name": "HBoxModel",
     "state": {
      "_dom_classes": [],
      "_model_module": "@jupyter-widgets/controls",
      "_model_module_version": "1.5.0",
      "_model_name": "HBoxModel",
      "_view_count": null,
      "_view_module": "@jupyter-widgets/controls",
      "_view_module_version": "1.5.0",
      "_view_name": "HBoxView",
      "box_style": "",
      "children": [
       "IPY_MODEL_6ea14152ccad42d3b9b7451ac73a203d",
       "IPY_MODEL_80a23b516cd844d3b95bb5b8520aba37",
       "IPY_MODEL_77ca70e6350c4621842ee13db8cab75a"
      ],
      "layout": "IPY_MODEL_1136c3ad0154428a88488c39a83f6a64"
     }
    },
    "40896f467f9a439a927e0dae34056f88": {
     "model_module": "@jupyter-widgets/base",
     "model_module_version": "1.2.0",
     "model_name": "LayoutModel",
     "state": {
      "_model_module": "@jupyter-widgets/base",
      "_model_module_version": "1.2.0",
      "_model_name": "LayoutModel",
      "_view_count": null,
      "_view_module": "@jupyter-widgets/base",
      "_view_module_version": "1.2.0",
      "_view_name": "LayoutView",
      "align_content": null,
      "align_items": null,
      "align_self": null,
      "border": null,
      "bottom": null,
      "display": null,
      "flex": null,
      "flex_flow": null,
      "grid_area": null,
      "grid_auto_columns": null,
      "grid_auto_flow": null,
      "grid_auto_rows": null,
      "grid_column": null,
      "grid_gap": null,
      "grid_row": null,
      "grid_template_areas": null,
      "grid_template_columns": null,
      "grid_template_rows": null,
      "height": null,
      "justify_content": null,
      "justify_items": null,
      "left": null,
      "margin": null,
      "max_height": null,
      "max_width": null,
      "min_height": null,
      "min_width": null,
      "object_fit": null,
      "object_position": null,
      "order": null,
      "overflow": null,
      "overflow_x": null,
      "overflow_y": null,
      "padding": null,
      "right": null,
      "top": null,
      "visibility": null,
      "width": null
     }
    },
    "41d880e8898444299d3c237eccbacbff": {
     "model_module": "@jupyter-widgets/controls",
     "model_module_version": "1.5.0",
     "model_name": "ProgressStyleModel",
     "state": {
      "_model_module": "@jupyter-widgets/controls",
      "_model_module_version": "1.5.0",
      "_model_name": "ProgressStyleModel",
      "_view_count": null,
      "_view_module": "@jupyter-widgets/base",
      "_view_module_version": "1.2.0",
      "_view_name": "StyleView",
      "bar_color": null,
      "description_width": ""
     }
    },
    "4394e56b42d3425db03473e4bc754986": {
     "model_module": "@jupyter-widgets/base",
     "model_module_version": "1.2.0",
     "model_name": "LayoutModel",
     "state": {
      "_model_module": "@jupyter-widgets/base",
      "_model_module_version": "1.2.0",
      "_model_name": "LayoutModel",
      "_view_count": null,
      "_view_module": "@jupyter-widgets/base",
      "_view_module_version": "1.2.0",
      "_view_name": "LayoutView",
      "align_content": null,
      "align_items": null,
      "align_self": null,
      "border": null,
      "bottom": null,
      "display": null,
      "flex": null,
      "flex_flow": null,
      "grid_area": null,
      "grid_auto_columns": null,
      "grid_auto_flow": null,
      "grid_auto_rows": null,
      "grid_column": null,
      "grid_gap": null,
      "grid_row": null,
      "grid_template_areas": null,
      "grid_template_columns": null,
      "grid_template_rows": null,
      "height": null,
      "justify_content": null,
      "justify_items": null,
      "left": null,
      "margin": null,
      "max_height": null,
      "max_width": null,
      "min_height": null,
      "min_width": null,
      "object_fit": null,
      "object_position": null,
      "order": null,
      "overflow": null,
      "overflow_x": null,
      "overflow_y": null,
      "padding": null,
      "right": null,
      "top": null,
      "visibility": null,
      "width": null
     }
    },
    "584c23a6d1be430cb393340e1ab4c35b": {
     "model_module": "@jupyter-widgets/controls",
     "model_module_version": "1.5.0",
     "model_name": "FloatProgressModel",
     "state": {
      "_dom_classes": [],
      "_model_module": "@jupyter-widgets/controls",
      "_model_module_version": "1.5.0",
      "_model_name": "FloatProgressModel",
      "_view_count": null,
      "_view_module": "@jupyter-widgets/controls",
      "_view_module_version": "1.5.0",
      "_view_name": "ProgressView",
      "bar_style": "success",
      "description": "",
      "description_tooltip": null,
      "layout": "IPY_MODEL_0d1811bf45b940cc99d944a5ed7e57aa",
      "max": 1042301,
      "min": 0,
      "orientation": "horizontal",
      "style": "IPY_MODEL_1ec071b6cc7e4251a4e41b481745640a",
      "value": 1042301
     }
    },
    "675e50124649419c850c46e4f921347e": {
     "model_module": "@jupyter-widgets/base",
     "model_module_version": "1.2.0",
     "model_name": "LayoutModel",
     "state": {
      "_model_module": "@jupyter-widgets/base",
      "_model_module_version": "1.2.0",
      "_model_name": "LayoutModel",
      "_view_count": null,
      "_view_module": "@jupyter-widgets/base",
      "_view_module_version": "1.2.0",
      "_view_name": "LayoutView",
      "align_content": null,
      "align_items": null,
      "align_self": null,
      "border": null,
      "bottom": null,
      "display": null,
      "flex": null,
      "flex_flow": null,
      "grid_area": null,
      "grid_auto_columns": null,
      "grid_auto_flow": null,
      "grid_auto_rows": null,
      "grid_column": null,
      "grid_gap": null,
      "grid_row": null,
      "grid_template_areas": null,
      "grid_template_columns": null,
      "grid_template_rows": null,
      "height": null,
      "justify_content": null,
      "justify_items": null,
      "left": null,
      "margin": null,
      "max_height": null,
      "max_width": null,
      "min_height": null,
      "min_width": null,
      "object_fit": null,
      "object_position": null,
      "order": null,
      "overflow": null,
      "overflow_x": null,
      "overflow_y": null,
      "padding": null,
      "right": null,
      "top": null,
      "visibility": null,
      "width": null
     }
    },
    "6ea14152ccad42d3b9b7451ac73a203d": {
     "model_module": "@jupyter-widgets/controls",
     "model_module_version": "1.5.0",
     "model_name": "HTMLModel",
     "state": {
      "_dom_classes": [],
      "_model_module": "@jupyter-widgets/controls",
      "_model_module_version": "1.5.0",
      "_model_name": "HTMLModel",
      "_view_count": null,
      "_view_module": "@jupyter-widgets/controls",
      "_view_module_version": "1.5.0",
      "_view_name": "HTMLView",
      "description": "",
      "description_tooltip": null,
      "layout": "IPY_MODEL_c7a88207a5664e1ea946c744e3278e0b",
      "placeholder": "​",
      "style": "IPY_MODEL_e61bd2348f9f49b59be1c95793705df6",
      "value": "Downloading: 100%"
     }
    },
    "744a6285d7e74e0a9e348884e25cc10d": {
     "model_module": "@jupyter-widgets/controls",
     "model_module_version": "1.5.0",
     "model_name": "HBoxModel",
     "state": {
      "_dom_classes": [],
      "_model_module": "@jupyter-widgets/controls",
      "_model_module_version": "1.5.0",
      "_model_name": "HBoxModel",
      "_view_count": null,
      "_view_module": "@jupyter-widgets/controls",
      "_view_module_version": "1.5.0",
      "_view_name": "HBoxView",
      "box_style": "",
      "children": [
       "IPY_MODEL_dcd3beb4c76c4895981950b165034e44",
       "IPY_MODEL_d384d755693a4c469a02a5402c4b2264",
       "IPY_MODEL_32e0ebca9e924689965c6d0494bdc69a"
      ],
      "layout": "IPY_MODEL_4394e56b42d3425db03473e4bc754986"
     }
    },
    "77ca70e6350c4621842ee13db8cab75a": {
     "model_module": "@jupyter-widgets/controls",
     "model_module_version": "1.5.0",
     "model_name": "HTMLModel",
     "state": {
      "_dom_classes": [],
      "_model_module": "@jupyter-widgets/controls",
      "_model_module_version": "1.5.0",
      "_model_name": "HTMLModel",
      "_view_count": null,
      "_view_module": "@jupyter-widgets/controls",
      "_view_module_version": "1.5.0",
      "_view_name": "HTMLView",
      "description": "",
      "description_tooltip": null,
      "layout": "IPY_MODEL_27a16e20a3da44148795d012f6cf3eb4",
      "placeholder": "​",
      "style": "IPY_MODEL_c152c6e048ee4a7e9e79cfb6ce5e8434",
      "value": " 446k/446k [00:00&lt;00:00, 1.34MB/s]"
     }
    },
    "7b491a12181f4543af02f81be9552fac": {
     "model_module": "@jupyter-widgets/base",
     "model_module_version": "1.2.0",
     "model_name": "LayoutModel",
     "state": {
      "_model_module": "@jupyter-widgets/base",
      "_model_module_version": "1.2.0",
      "_model_name": "LayoutModel",
      "_view_count": null,
      "_view_module": "@jupyter-widgets/base",
      "_view_module_version": "1.2.0",
      "_view_name": "LayoutView",
      "align_content": null,
      "align_items": null,
      "align_self": null,
      "border": null,
      "bottom": null,
      "display": null,
      "flex": null,
      "flex_flow": null,
      "grid_area": null,
      "grid_auto_columns": null,
      "grid_auto_flow": null,
      "grid_auto_rows": null,
      "grid_column": null,
      "grid_gap": null,
      "grid_row": null,
      "grid_template_areas": null,
      "grid_template_columns": null,
      "grid_template_rows": null,
      "height": null,
      "justify_content": null,
      "justify_items": null,
      "left": null,
      "margin": null,
      "max_height": null,
      "max_width": null,
      "min_height": null,
      "min_width": null,
      "object_fit": null,
      "object_position": null,
      "order": null,
      "overflow": null,
      "overflow_x": null,
      "overflow_y": null,
      "padding": null,
      "right": null,
      "top": null,
      "visibility": null,
      "width": null
     }
    },
    "7c6d7cbeaf494d82bc76efb6cd5e7c84": {
     "model_module": "@jupyter-widgets/base",
     "model_module_version": "1.2.0",
     "model_name": "LayoutModel",
     "state": {
      "_model_module": "@jupyter-widgets/base",
      "_model_module_version": "1.2.0",
      "_model_name": "LayoutModel",
      "_view_count": null,
      "_view_module": "@jupyter-widgets/base",
      "_view_module_version": "1.2.0",
      "_view_name": "LayoutView",
      "align_content": null,
      "align_items": null,
      "align_self": null,
      "border": null,
      "bottom": null,
      "display": null,
      "flex": null,
      "flex_flow": null,
      "grid_area": null,
      "grid_auto_columns": null,
      "grid_auto_flow": null,
      "grid_auto_rows": null,
      "grid_column": null,
      "grid_gap": null,
      "grid_row": null,
      "grid_template_areas": null,
      "grid_template_columns": null,
      "grid_template_rows": null,
      "height": null,
      "justify_content": null,
      "justify_items": null,
      "left": null,
      "margin": null,
      "max_height": null,
      "max_width": null,
      "min_height": null,
      "min_width": null,
      "object_fit": null,
      "object_position": null,
      "order": null,
      "overflow": null,
      "overflow_x": null,
      "overflow_y": null,
      "padding": null,
      "right": null,
      "top": null,
      "visibility": null,
      "width": null
     }
    },
    "7f0561de000c42d5bc180464d05cd092": {
     "model_module": "@jupyter-widgets/controls",
     "model_module_version": "1.5.0",
     "model_name": "HTMLModel",
     "state": {
      "_dom_classes": [],
      "_model_module": "@jupyter-widgets/controls",
      "_model_module_version": "1.5.0",
      "_model_name": "HTMLModel",
      "_view_count": null,
      "_view_module": "@jupyter-widgets/controls",
      "_view_module_version": "1.5.0",
      "_view_name": "HTMLView",
      "description": "",
      "description_tooltip": null,
      "layout": "IPY_MODEL_c580d3aae3ac4d9094bc890bc558be31",
      "placeholder": "​",
      "style": "IPY_MODEL_fc9adcf9d6dc4643b985c2a8d5ce4b9e",
      "value": " 823M/823M [00:19&lt;00:00, 52.9MB/s]"
     }
    },
    "80a23b516cd844d3b95bb5b8520aba37": {
     "model_module": "@jupyter-widgets/controls",
     "model_module_version": "1.5.0",
     "model_name": "FloatProgressModel",
     "state": {
      "_dom_classes": [],
      "_model_module": "@jupyter-widgets/controls",
      "_model_module_version": "1.5.0",
      "_model_name": "FloatProgressModel",
      "_view_count": null,
      "_view_module": "@jupyter-widgets/controls",
      "_view_module_version": "1.5.0",
      "_view_name": "ProgressView",
      "bar_style": "success",
      "description": "",
      "description_tooltip": null,
      "layout": "IPY_MODEL_12db8e956fde413b944e0dce88355906",
      "max": 456318,
      "min": 0,
      "orientation": "horizontal",
      "style": "IPY_MODEL_41d880e8898444299d3c237eccbacbff",
      "value": 456318
     }
    },
    "87419fda568f49c49ccbf6118ab483ac": {
     "model_module": "@jupyter-widgets/controls",
     "model_module_version": "1.5.0",
     "model_name": "HBoxModel",
     "state": {
      "_dom_classes": [],
      "_model_module": "@jupyter-widgets/controls",
      "_model_module_version": "1.5.0",
      "_model_name": "HBoxModel",
      "_view_count": null,
      "_view_module": "@jupyter-widgets/controls",
      "_view_module_version": "1.5.0",
      "_view_name": "HBoxView",
      "box_style": "",
      "children": [
       "IPY_MODEL_c5d3edd9a7ca4327b5ac62f45780cf6a",
       "IPY_MODEL_dbc7b5e8865a4b70a46a89d10a94724c",
       "IPY_MODEL_7f0561de000c42d5bc180464d05cd092"
      ],
      "layout": "IPY_MODEL_7b491a12181f4543af02f81be9552fac"
     }
    },
    "9beda69321854a57b9e4336832bdff83": {
     "model_module": "@jupyter-widgets/controls",
     "model_module_version": "1.5.0",
     "model_name": "ProgressStyleModel",
     "state": {
      "_model_module": "@jupyter-widgets/controls",
      "_model_module_version": "1.5.0",
      "_model_name": "ProgressStyleModel",
      "_view_count": null,
      "_view_module": "@jupyter-widgets/base",
      "_view_module_version": "1.2.0",
      "_view_name": "StyleView",
      "bar_color": null,
      "description_width": ""
     }
    },
    "9d6e5a7fa7c64e439414ad96e58c2eab": {
     "model_module": "@jupyter-widgets/base",
     "model_module_version": "1.2.0",
     "model_name": "LayoutModel",
     "state": {
      "_model_module": "@jupyter-widgets/base",
      "_model_module_version": "1.2.0",
      "_model_name": "LayoutModel",
      "_view_count": null,
      "_view_module": "@jupyter-widgets/base",
      "_view_module_version": "1.2.0",
      "_view_name": "LayoutView",
      "align_content": null,
      "align_items": null,
      "align_self": null,
      "border": null,
      "bottom": null,
      "display": null,
      "flex": null,
      "flex_flow": null,
      "grid_area": null,
      "grid_auto_columns": null,
      "grid_auto_flow": null,
      "grid_auto_rows": null,
      "grid_column": null,
      "grid_gap": null,
      "grid_row": null,
      "grid_template_areas": null,
      "grid_template_columns": null,
      "grid_template_rows": null,
      "height": null,
      "justify_content": null,
      "justify_items": null,
      "left": null,
      "margin": null,
      "max_height": null,
      "max_width": null,
      "min_height": null,
      "min_width": null,
      "object_fit": null,
      "object_position": null,
      "order": null,
      "overflow": null,
      "overflow_x": null,
      "overflow_y": null,
      "padding": null,
      "right": null,
      "top": null,
      "visibility": null,
      "width": null
     }
    },
    "a5431306e6dd4c2c97d8972f8c396593": {
     "model_module": "@jupyter-widgets/controls",
     "model_module_version": "1.5.0",
     "model_name": "HBoxModel",
     "state": {
      "_dom_classes": [],
      "_model_module": "@jupyter-widgets/controls",
      "_model_module_version": "1.5.0",
      "_model_name": "HBoxModel",
      "_view_count": null,
      "_view_module": "@jupyter-widgets/controls",
      "_view_module_version": "1.5.0",
      "_view_name": "HBoxView",
      "box_style": "",
      "children": [
       "IPY_MODEL_d400f72acc2d4388a3a7e7f7e4f92454",
       "IPY_MODEL_584c23a6d1be430cb393340e1ab4c35b",
       "IPY_MODEL_09aa7d30f31c4e5d986db98eacbb2489"
      ],
      "layout": "IPY_MODEL_354c23dac0a64859a73ab9cd7173ce12"
     }
    },
    "a5611de2abd04759af325edca8765af0": {
     "model_module": "@jupyter-widgets/controls",
     "model_module_version": "1.5.0",
     "model_name": "DescriptionStyleModel",
     "state": {
      "_model_module": "@jupyter-widgets/controls",
      "_model_module_version": "1.5.0",
      "_model_name": "DescriptionStyleModel",
      "_view_count": null,
      "_view_module": "@jupyter-widgets/base",
      "_view_module_version": "1.2.0",
      "_view_name": "StyleView",
      "description_width": ""
     }
    },
    "ab4868af028b4afe8c7fa37f7b7505a6": {
     "model_module": "@jupyter-widgets/base",
     "model_module_version": "1.2.0",
     "model_name": "LayoutModel",
     "state": {
      "_model_module": "@jupyter-widgets/base",
      "_model_module_version": "1.2.0",
      "_model_name": "LayoutModel",
      "_view_count": null,
      "_view_module": "@jupyter-widgets/base",
      "_view_module_version": "1.2.0",
      "_view_name": "LayoutView",
      "align_content": null,
      "align_items": null,
      "align_self": null,
      "border": null,
      "bottom": null,
      "display": null,
      "flex": null,
      "flex_flow": null,
      "grid_area": null,
      "grid_auto_columns": null,
      "grid_auto_flow": null,
      "grid_auto_rows": null,
      "grid_column": null,
      "grid_gap": null,
      "grid_row": null,
      "grid_template_areas": null,
      "grid_template_columns": null,
      "grid_template_rows": null,
      "height": null,
      "justify_content": null,
      "justify_items": null,
      "left": null,
      "margin": null,
      "max_height": null,
      "max_width": null,
      "min_height": null,
      "min_width": null,
      "object_fit": null,
      "object_position": null,
      "order": null,
      "overflow": null,
      "overflow_x": null,
      "overflow_y": null,
      "padding": null,
      "right": null,
      "top": null,
      "visibility": null,
      "width": null
     }
    },
    "b38147679d0d40d495f3025fee95e93e": {
     "model_module": "@jupyter-widgets/controls",
     "model_module_version": "1.5.0",
     "model_name": "DescriptionStyleModel",
     "state": {
      "_model_module": "@jupyter-widgets/controls",
      "_model_module_version": "1.5.0",
      "_model_name": "DescriptionStyleModel",
      "_view_count": null,
      "_view_module": "@jupyter-widgets/base",
      "_view_module_version": "1.2.0",
      "_view_name": "StyleView",
      "description_width": ""
     }
    },
    "b43d65a5eed24d529be8485dd448f5e4": {
     "model_module": "@jupyter-widgets/base",
     "model_module_version": "1.2.0",
     "model_name": "LayoutModel",
     "state": {
      "_model_module": "@jupyter-widgets/base",
      "_model_module_version": "1.2.0",
      "_model_name": "LayoutModel",
      "_view_count": null,
      "_view_module": "@jupyter-widgets/base",
      "_view_module_version": "1.2.0",
      "_view_name": "LayoutView",
      "align_content": null,
      "align_items": null,
      "align_self": null,
      "border": null,
      "bottom": null,
      "display": null,
      "flex": null,
      "flex_flow": null,
      "grid_area": null,
      "grid_auto_columns": null,
      "grid_auto_flow": null,
      "grid_auto_rows": null,
      "grid_column": null,
      "grid_gap": null,
      "grid_row": null,
      "grid_template_areas": null,
      "grid_template_columns": null,
      "grid_template_rows": null,
      "height": null,
      "justify_content": null,
      "justify_items": null,
      "left": null,
      "margin": null,
      "max_height": null,
      "max_width": null,
      "min_height": null,
      "min_width": null,
      "object_fit": null,
      "object_position": null,
      "order": null,
      "overflow": null,
      "overflow_x": null,
      "overflow_y": null,
      "padding": null,
      "right": null,
      "top": null,
      "visibility": null,
      "width": null
     }
    },
    "bb38daef51de48bf8ac36b2dc7d2e298": {
     "model_module": "@jupyter-widgets/controls",
     "model_module_version": "1.5.0",
     "model_name": "DescriptionStyleModel",
     "state": {
      "_model_module": "@jupyter-widgets/controls",
      "_model_module_version": "1.5.0",
      "_model_name": "DescriptionStyleModel",
      "_view_count": null,
      "_view_module": "@jupyter-widgets/base",
      "_view_module_version": "1.2.0",
      "_view_name": "StyleView",
      "description_width": ""
     }
    },
    "c02b6a001ee84124bdd40702012789e0": {
     "model_module": "@jupyter-widgets/base",
     "model_module_version": "1.2.0",
     "model_name": "LayoutModel",
     "state": {
      "_model_module": "@jupyter-widgets/base",
      "_model_module_version": "1.2.0",
      "_model_name": "LayoutModel",
      "_view_count": null,
      "_view_module": "@jupyter-widgets/base",
      "_view_module_version": "1.2.0",
      "_view_name": "LayoutView",
      "align_content": null,
      "align_items": null,
      "align_self": null,
      "border": null,
      "bottom": null,
      "display": null,
      "flex": null,
      "flex_flow": null,
      "grid_area": null,
      "grid_auto_columns": null,
      "grid_auto_flow": null,
      "grid_auto_rows": null,
      "grid_column": null,
      "grid_gap": null,
      "grid_row": null,
      "grid_template_areas": null,
      "grid_template_columns": null,
      "grid_template_rows": null,
      "height": null,
      "justify_content": null,
      "justify_items": null,
      "left": null,
      "margin": null,
      "max_height": null,
      "max_width": null,
      "min_height": null,
      "min_width": null,
      "object_fit": null,
      "object_position": null,
      "order": null,
      "overflow": null,
      "overflow_x": null,
      "overflow_y": null,
      "padding": null,
      "right": null,
      "top": null,
      "visibility": null,
      "width": null
     }
    },
    "c152c6e048ee4a7e9e79cfb6ce5e8434": {
     "model_module": "@jupyter-widgets/controls",
     "model_module_version": "1.5.0",
     "model_name": "DescriptionStyleModel",
     "state": {
      "_model_module": "@jupyter-widgets/controls",
      "_model_module_version": "1.5.0",
      "_model_name": "DescriptionStyleModel",
      "_view_count": null,
      "_view_module": "@jupyter-widgets/base",
      "_view_module_version": "1.2.0",
      "_view_name": "StyleView",
      "description_width": ""
     }
    },
    "c580d3aae3ac4d9094bc890bc558be31": {
     "model_module": "@jupyter-widgets/base",
     "model_module_version": "1.2.0",
     "model_name": "LayoutModel",
     "state": {
      "_model_module": "@jupyter-widgets/base",
      "_model_module_version": "1.2.0",
      "_model_name": "LayoutModel",
      "_view_count": null,
      "_view_module": "@jupyter-widgets/base",
      "_view_module_version": "1.2.0",
      "_view_name": "LayoutView",
      "align_content": null,
      "align_items": null,
      "align_self": null,
      "border": null,
      "bottom": null,
      "display": null,
      "flex": null,
      "flex_flow": null,
      "grid_area": null,
      "grid_auto_columns": null,
      "grid_auto_flow": null,
      "grid_auto_rows": null,
      "grid_column": null,
      "grid_gap": null,
      "grid_row": null,
      "grid_template_areas": null,
      "grid_template_columns": null,
      "grid_template_rows": null,
      "height": null,
      "justify_content": null,
      "justify_items": null,
      "left": null,
      "margin": null,
      "max_height": null,
      "max_width": null,
      "min_height": null,
      "min_width": null,
      "object_fit": null,
      "object_position": null,
      "order": null,
      "overflow": null,
      "overflow_x": null,
      "overflow_y": null,
      "padding": null,
      "right": null,
      "top": null,
      "visibility": null,
      "width": null
     }
    },
    "c5d3edd9a7ca4327b5ac62f45780cf6a": {
     "model_module": "@jupyter-widgets/controls",
     "model_module_version": "1.5.0",
     "model_name": "HTMLModel",
     "state": {
      "_dom_classes": [],
      "_model_module": "@jupyter-widgets/controls",
      "_model_module_version": "1.5.0",
      "_model_name": "HTMLModel",
      "_view_count": null,
      "_view_module": "@jupyter-widgets/controls",
      "_view_module_version": "1.5.0",
      "_view_name": "HTMLView",
      "description": "",
      "description_tooltip": null,
      "layout": "IPY_MODEL_b43d65a5eed24d529be8485dd448f5e4",
      "placeholder": "​",
      "style": "IPY_MODEL_30b1e2800ced4f1099b238c4377a5d52",
      "value": "Downloading: 100%"
     }
    },
    "c67aef5c12b242f7a14fc8bc1758713d": {
     "model_module": "@jupyter-widgets/controls",
     "model_module_version": "1.5.0",
     "model_name": "DescriptionStyleModel",
     "state": {
      "_model_module": "@jupyter-widgets/controls",
      "_model_module_version": "1.5.0",
      "_model_name": "DescriptionStyleModel",
      "_view_count": null,
      "_view_module": "@jupyter-widgets/base",
      "_view_module_version": "1.2.0",
      "_view_name": "StyleView",
      "description_width": ""
     }
    },
    "c7a88207a5664e1ea946c744e3278e0b": {
     "model_module": "@jupyter-widgets/base",
     "model_module_version": "1.2.0",
     "model_name": "LayoutModel",
     "state": {
      "_model_module": "@jupyter-widgets/base",
      "_model_module_version": "1.2.0",
      "_model_name": "LayoutModel",
      "_view_count": null,
      "_view_module": "@jupyter-widgets/base",
      "_view_module_version": "1.2.0",
      "_view_name": "LayoutView",
      "align_content": null,
      "align_items": null,
      "align_self": null,
      "border": null,
      "bottom": null,
      "display": null,
      "flex": null,
      "flex_flow": null,
      "grid_area": null,
      "grid_auto_columns": null,
      "grid_auto_flow": null,
      "grid_auto_rows": null,
      "grid_column": null,
      "grid_gap": null,
      "grid_row": null,
      "grid_template_areas": null,
      "grid_template_columns": null,
      "grid_template_rows": null,
      "height": null,
      "justify_content": null,
      "justify_items": null,
      "left": null,
      "margin": null,
      "max_height": null,
      "max_width": null,
      "min_height": null,
      "min_width": null,
      "object_fit": null,
      "object_position": null,
      "order": null,
      "overflow": null,
      "overflow_x": null,
      "overflow_y": null,
      "padding": null,
      "right": null,
      "top": null,
      "visibility": null,
      "width": null
     }
    },
    "c9b08c2cd4734b07a10a9a979273c8ea": {
     "model_module": "@jupyter-widgets/controls",
     "model_module_version": "1.5.0",
     "model_name": "ProgressStyleModel",
     "state": {
      "_model_module": "@jupyter-widgets/controls",
      "_model_module_version": "1.5.0",
      "_model_name": "ProgressStyleModel",
      "_view_count": null,
      "_view_module": "@jupyter-widgets/base",
      "_view_module_version": "1.2.0",
      "_view_name": "StyleView",
      "bar_color": null,
      "description_width": ""
     }
    },
    "cb471f8d389649e78fe5086b4f20d86d": {
     "model_module": "@jupyter-widgets/controls",
     "model_module_version": "1.5.0",
     "model_name": "DescriptionStyleModel",
     "state": {
      "_model_module": "@jupyter-widgets/controls",
      "_model_module_version": "1.5.0",
      "_model_name": "DescriptionStyleModel",
      "_view_count": null,
      "_view_module": "@jupyter-widgets/base",
      "_view_module_version": "1.2.0",
      "_view_name": "StyleView",
      "description_width": ""
     }
    },
    "cfd26a11e5894c63a6b59e047be7ea19": {
     "model_module": "@jupyter-widgets/controls",
     "model_module_version": "1.5.0",
     "model_name": "ProgressStyleModel",
     "state": {
      "_model_module": "@jupyter-widgets/controls",
      "_model_module_version": "1.5.0",
      "_model_name": "ProgressStyleModel",
      "_view_count": null,
      "_view_module": "@jupyter-widgets/base",
      "_view_module_version": "1.2.0",
      "_view_name": "StyleView",
      "bar_color": null,
      "description_width": ""
     }
    },
    "d23cb632903b4f1d88011bb3f1c8a976": {
     "model_module": "@jupyter-widgets/controls",
     "model_module_version": "1.5.0",
     "model_name": "HTMLModel",
     "state": {
      "_dom_classes": [],
      "_model_module": "@jupyter-widgets/controls",
      "_model_module_version": "1.5.0",
      "_model_name": "HTMLModel",
      "_view_count": null,
      "_view_module": "@jupyter-widgets/controls",
      "_view_module_version": "1.5.0",
      "_view_name": "HTMLView",
      "description": "",
      "description_tooltip": null,
      "layout": "IPY_MODEL_c02b6a001ee84124bdd40702012789e0",
      "placeholder": "​",
      "style": "IPY_MODEL_a5611de2abd04759af325edca8765af0",
      "value": " 642/642 [00:00&lt;00:00, 5.60kB/s]"
     }
    },
    "d384d755693a4c469a02a5402c4b2264": {
     "model_module": "@jupyter-widgets/controls",
     "model_module_version": "1.5.0",
     "model_name": "FloatProgressModel",
     "state": {
      "_dom_classes": [],
      "_model_module": "@jupyter-widgets/controls",
      "_model_module_version": "1.5.0",
      "_model_name": "FloatProgressModel",
      "_view_count": null,
      "_view_module": "@jupyter-widgets/controls",
      "_view_module_version": "1.5.0",
      "_view_name": "ProgressView",
      "bar_style": "success",
      "description": "",
      "description_tooltip": null,
      "layout": "IPY_MODEL_126d8417b47949988b9647b8d98d7e7c",
      "max": 26,
      "min": 0,
      "orientation": "horizontal",
      "style": "IPY_MODEL_cfd26a11e5894c63a6b59e047be7ea19",
      "value": 26
     }
    },
    "d400f72acc2d4388a3a7e7f7e4f92454": {
     "model_module": "@jupyter-widgets/controls",
     "model_module_version": "1.5.0",
     "model_name": "HTMLModel",
     "state": {
      "_dom_classes": [],
      "_model_module": "@jupyter-widgets/controls",
      "_model_module_version": "1.5.0",
      "_model_name": "HTMLModel",
      "_view_count": null,
      "_view_module": "@jupyter-widgets/controls",
      "_view_module_version": "1.5.0",
      "_view_name": "HTMLView",
      "description": "",
      "description_tooltip": null,
      "layout": "IPY_MODEL_ab4868af028b4afe8c7fa37f7b7505a6",
      "placeholder": "​",
      "style": "IPY_MODEL_f2e4fa80bd794f46b0e027e83be8ca5a",
      "value": "Downloading: 100%"
     }
    },
    "db0a1e359258493cac113e4e724abe16": {
     "model_module": "@jupyter-widgets/controls",
     "model_module_version": "1.5.0",
     "model_name": "FloatProgressModel",
     "state": {
      "_dom_classes": [],
      "_model_module": "@jupyter-widgets/controls",
      "_model_module_version": "1.5.0",
      "_model_name": "FloatProgressModel",
      "_view_count": null,
      "_view_module": "@jupyter-widgets/controls",
      "_view_module_version": "1.5.0",
      "_view_name": "ProgressView",
      "bar_style": "success",
      "description": "",
      "description_tooltip": null,
      "layout": "IPY_MODEL_9d6e5a7fa7c64e439414ad96e58c2eab",
      "max": 642,
      "min": 0,
      "orientation": "horizontal",
      "style": "IPY_MODEL_9beda69321854a57b9e4336832bdff83",
      "value": 642
     }
    },
    "dbc7b5e8865a4b70a46a89d10a94724c": {
     "model_module": "@jupyter-widgets/controls",
     "model_module_version": "1.5.0",
     "model_name": "FloatProgressModel",
     "state": {
      "_dom_classes": [],
      "_model_module": "@jupyter-widgets/controls",
      "_model_module_version": "1.5.0",
      "_model_name": "FloatProgressModel",
      "_view_count": null,
      "_view_module": "@jupyter-widgets/controls",
      "_view_module_version": "1.5.0",
      "_view_name": "ProgressView",
      "bar_style": "success",
      "description": "",
      "description_tooltip": null,
      "layout": "IPY_MODEL_7c6d7cbeaf494d82bc76efb6cd5e7c84",
      "max": 862955157,
      "min": 0,
      "orientation": "horizontal",
      "style": "IPY_MODEL_c9b08c2cd4734b07a10a9a979273c8ea",
      "value": 862955157
     }
    },
    "dcd3beb4c76c4895981950b165034e44": {
     "model_module": "@jupyter-widgets/controls",
     "model_module_version": "1.5.0",
     "model_name": "HTMLModel",
     "state": {
      "_dom_classes": [],
      "_model_module": "@jupyter-widgets/controls",
      "_model_module_version": "1.5.0",
      "_model_name": "HTMLModel",
      "_view_count": null,
      "_view_module": "@jupyter-widgets/controls",
      "_view_module_version": "1.5.0",
      "_view_name": "HTMLView",
      "description": "",
      "description_tooltip": null,
      "layout": "IPY_MODEL_2ef16397714c4e848c09264b1382eea8",
      "placeholder": "​",
      "style": "IPY_MODEL_bb38daef51de48bf8ac36b2dc7d2e298",
      "value": "Downloading: 100%"
     }
    },
    "e61bd2348f9f49b59be1c95793705df6": {
     "model_module": "@jupyter-widgets/controls",
     "model_module_version": "1.5.0",
     "model_name": "DescriptionStyleModel",
     "state": {
      "_model_module": "@jupyter-widgets/controls",
      "_model_module_version": "1.5.0",
      "_model_name": "DescriptionStyleModel",
      "_view_count": null,
      "_view_module": "@jupyter-widgets/base",
      "_view_module_version": "1.2.0",
      "_view_name": "StyleView",
      "description_width": ""
     }
    },
    "f2e4fa80bd794f46b0e027e83be8ca5a": {
     "model_module": "@jupyter-widgets/controls",
     "model_module_version": "1.5.0",
     "model_name": "DescriptionStyleModel",
     "state": {
      "_model_module": "@jupyter-widgets/controls",
      "_model_module_version": "1.5.0",
      "_model_name": "DescriptionStyleModel",
      "_view_count": null,
      "_view_module": "@jupyter-widgets/base",
      "_view_module_version": "1.2.0",
      "_view_name": "StyleView",
      "description_width": ""
     }
    },
    "fc9adcf9d6dc4643b985c2a8d5ce4b9e": {
     "model_module": "@jupyter-widgets/controls",
     "model_module_version": "1.5.0",
     "model_name": "DescriptionStyleModel",
     "state": {
      "_model_module": "@jupyter-widgets/controls",
      "_model_module_version": "1.5.0",
      "_model_name": "DescriptionStyleModel",
      "_view_count": null,
      "_view_module": "@jupyter-widgets/base",
      "_view_module_version": "1.2.0",
      "_view_name": "StyleView",
      "description_width": ""
     }
    }
   }
  }
 },
 "nbformat": 4,
 "nbformat_minor": 1
}
